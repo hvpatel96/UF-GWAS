{
 "cells": [
  {
   "cell_type": "markdown",
   "id": "1109032d-1ff2-45c7-a2b7-d5e9568f93f0",
   "metadata": {},
   "source": [
    "# Genome Wide Association Study (GWAS)\n",
    "\n",
    "## Brief Description:\n",
    "A genome-wide association study (abbreviated GWAS) is a research approach used to identify genomic variants that are statistically associated with a risk for a disease or a particular trait. The method involves surveying the genomes of many people, looking for genomic variants that occur more frequently in those with a specific disease or trait compared to those without the disease or trait. Once such genomic variants are identified, they are typically used to search for nearby variants that contribute directly to the disease or trait. (https://www.genome.gov/genetics-glossary/Genome-Wide-Association-Studies)"
   ]
  },
  {
   "cell_type": "markdown",
   "id": "375201b1-feb1-43c3-b8e9-c11b7db0f459",
   "metadata": {
    "tags": []
   },
   "source": [
    "## Methodology:\n",
    "\n",
    "There are several steps one must take in order to perform a GWAS. These steps are summarized in the following image ([Uffelmann et al. 2021](https://www.nature.com/articles/s43586-021-00056-9))."
   ]
  },
  {
   "cell_type": "markdown",
   "id": "96bd1826-bb36-4e91-85ca-52b86b5c34da",
   "metadata": {},
   "source": [
    "<img src=\"https://media.springernature.com/full/springer-static/image/art%3A10.1038%2Fs43586-021-00056-9/MediaObjects/43586_2021_56_Fig1_HTML.png?as=webp\" alt=\"GWAS Image\" style=\"height: 1000px; width:1000px;\"/>"
   ]
  },
  {
   "cell_type": "markdown",
   "id": "a9c25bd4-33db-413e-a70b-86a731f65d0c",
   "metadata": {},
   "source": [
    "All of the above steps involve careful consideration and planning in order to lead to replicable, actionable results. Errors in any of these steps can not only lead to incorrect results but can ultimately hinder proper patient care."
   ]
  },
  {
   "cell_type": "markdown",
   "id": "0d526c3e-a663-4020-8f38-d1e100253549",
   "metadata": {},
   "source": [
    "## Relevant Links/Publications:\n",
    "\n",
    "1. [Genome-wide association studies - A Nature Review](https://www.nature.com/articles/s43586-021-00056-9)\n",
    "2. [GWAS Catalog - Catalog of previous GWAS](https://www.ebi.ac.uk/gwas/)\n",
    "3. [NIH GWAS - NIH's information page](https://www.genome.gov/genetics-glossary/Genome-Wide-Association-Studies)\n",
    "4. [GWAS - Wikipedia](https://en.wikipedia.org/wiki/Genome-wide_association_study)"
   ]
  },
  {
   "cell_type": "markdown",
   "id": "ab88fed9-d08e-490e-9640-721b15f8b83b",
   "metadata": {},
   "source": [
    "## What this tool aims to do:\n",
    "\n",
    "UF-GWAS aims to streamline Quality Control, Imputation, and Association Testing (steps C-E in the above methodology diagram) in order to improve GWAS analyses."
   ]
  }
 ],
 "metadata": {
  "kernelspec": {
   "display_name": "Python 3 (ipykernel)",
   "language": "python",
   "name": "python3"
  },
  "language_info": {
   "codemirror_mode": {
    "name": "ipython",
    "version": 3
   },
   "file_extension": ".py",
   "mimetype": "text/x-python",
   "name": "python",
   "nbconvert_exporter": "python",
   "pygments_lexer": "ipython3",
   "version": "3.9.7"
  }
 },
 "nbformat": 4,
 "nbformat_minor": 5
}

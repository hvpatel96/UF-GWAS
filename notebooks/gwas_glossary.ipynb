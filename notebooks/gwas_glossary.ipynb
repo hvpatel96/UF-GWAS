{
 "cells": [
  {
   "cell_type": "markdown",
   "id": "d8a780cd-cd8c-4ee9-ad56-b1297c269f6d",
   "metadata": {},
   "source": [
    "# GWAS Glossary\n",
    "\n",
    "Below you will find some of the most common terms utilized when conducting GWAS. These definitions are sourced from the NLM (https://www.ncbi.nlm.nih.gov/books/NBK82217/, https://www.genome.gov/genetics-glossary) and NCI Dictionary of Genetics Terms (https://www.cancer.gov/publications/dictionaries/genetics-dictionary)."
   ]
  },
  {
   "cell_type": "code",
   "execution_count": 1,
   "id": "ee9c42c2-9911-407d-b097-86e14f981110",
   "metadata": {
    "jupyter": {
     "source_hidden": true
    },
    "tags": [
     "hide-input"
    ]
   },
   "outputs": [
    {
     "data": {
      "application/vnd.jupyter.widget-view+json": {
       "model_id": "f12183cad9014c398bede965273f5bab",
       "version_major": 2,
       "version_minor": 0
      },
      "text/plain": [
       "Text(value='', description='Term:')"
      ]
     },
     "metadata": {},
     "output_type": "display_data"
    },
    {
     "data": {
      "application/vnd.jupyter.widget-view+json": {
       "model_id": "8d7e3cb7d4384a43ab4ed2c9e7bf028e",
       "version_major": 2,
       "version_minor": 0
      },
      "text/plain": [
       "Output()"
      ]
     },
     "metadata": {},
     "output_type": "display_data"
    }
   ],
   "source": [
    "import pandas as pd, IPython.display, ipywidgets as widgets \n",
    "import re\n",
    "pd.set_option('display.max_colwidth', None)\n",
    "pd.set_option('display.max_rows', 500)\n",
    "textbox = widgets.Text(value='', description='Term:')\n",
    "display(textbox)\n",
    "\n",
    "out = widgets.Output()\n",
    "display(out)\n",
    "\n",
    "df = pd.read_csv(\"utils/glossary_terms.tsv\", sep='\\t')\n",
    "dfStyled = df.style.set_properties(**{'text-align': 'left'})\n",
    "dfStyled.set_table_styles([dict(selector='th', props=[('text-align', 'left')])])\n",
    "\n",
    "with out:\n",
    "    display(dfStyled)\n",
    "\n",
    "def display_result(value):\n",
    "    value = str(value['new']).lower()\n",
    "    if \"{\" not in value:\n",
    "        result = df[df['term'].str.contains(value, flags=re.IGNORECASE)]\n",
    "        resultStyled = result.style.set_properties(**{'text-align': 'left'})\n",
    "        resultStyled.set_table_styles([dict(selector='th', props=[('text-align', 'left')])])\n",
    "        out.clear_output()\n",
    "        if result.shape[0]>0:\n",
    "            with out:\n",
    "                display(resultStyled)\n",
    "\n",
    "textbox.observe(display_result)"
   ]
  }
 ],
 "metadata": {
  "kernelspec": {
   "display_name": "Python 3 (ipykernel)",
   "language": "python",
   "name": "python3"
  },
  "language_info": {
   "codemirror_mode": {
    "name": "ipython",
    "version": 3
   },
   "file_extension": ".py",
   "mimetype": "text/x-python",
   "name": "python",
   "nbconvert_exporter": "python",
   "pygments_lexer": "ipython3",
   "version": "3.7.13"
  }
 },
 "nbformat": 4,
 "nbformat_minor": 5
}
